{
 "cells": [
  {
   "cell_type": "code",
   "execution_count": 1,
   "metadata": {},
   "outputs": [
    {
     "data": {
      "text/plain": [
       "True"
      ]
     },
     "execution_count": 1,
     "metadata": {},
     "output_type": "execute_result"
    }
   ],
   "source": [
    "#Write a function named is_even that takes a parameter num and returns True if number is even and False if it is odd\n",
    "def is_even(num):\n",
    "    if num % 2 == 0:\n",
    "        return (True)\n",
    "    else:\n",
    "        return (False)\n",
    "\n",
    "is_even(4)"
   ]
  },
  {
   "cell_type": "code",
   "execution_count": 4,
   "metadata": {},
   "outputs": [
    {
     "data": {
      "text/plain": [
       "False"
      ]
     },
     "execution_count": 4,
     "metadata": {},
     "output_type": "execute_result"
    }
   ],
   "source": [
    "is_even(7)"
   ]
  },
  {
   "cell_type": "code",
   "execution_count": 10,
   "metadata": {},
   "outputs": [
    {
     "data": {
      "text/plain": [
       "'Vehicles must stop'"
      ]
     },
     "execution_count": 10,
     "metadata": {},
     "output_type": "execute_result"
    }
   ],
   "source": [
    "'''create a function traffic_message that takes a parameter named\n",
    "color and returns a string depending on the value of color as follows:\n",
    "RED Vehicles must stop\n",
    "YELLOW Vehicles should get ready to move\n",
    "GREEN Vehicles can move'''\n",
    "\n",
    "def traffic_message(color):\n",
    "    if color.upper() == 'RED':\n",
    "        return('Vehicles must stop')\n",
    "    elif color.upper() == 'YELLOW':\n",
    "        return('Vehicles should get ready to move')\n",
    "    elif color.upper() == 'GREEN':\n",
    "        return('Vehicles can move')\n",
    "    else:\n",
    "        return('Incorrect option')\n",
    "\n",
    "traffic_message('RED')"
   ]
  },
  {
   "cell_type": "code",
   "execution_count": 11,
   "metadata": {},
   "outputs": [
    {
     "data": {
      "text/plain": [
       "'Vehicles should get ready to move'"
      ]
     },
     "execution_count": 11,
     "metadata": {},
     "output_type": "execute_result"
    }
   ],
   "source": [
    "traffic_message('Yellow')"
   ]
  },
  {
   "cell_type": "code",
   "execution_count": 12,
   "metadata": {},
   "outputs": [
    {
     "data": {
      "text/plain": [
       "'Vehicles can move'"
      ]
     },
     "execution_count": 12,
     "metadata": {},
     "output_type": "execute_result"
    }
   ],
   "source": [
    "traffic_message('green')"
   ]
  },
  {
   "cell_type": "code",
   "execution_count": 13,
   "metadata": {},
   "outputs": [
    {
     "data": {
      "text/plain": [
       "'Incorrect option'"
      ]
     },
     "execution_count": 13,
     "metadata": {},
     "output_type": "execute_result"
    }
   ],
   "source": [
    "traffic_message('purple')"
   ]
  },
  {
   "cell_type": "code",
   "execution_count": 18,
   "metadata": {},
   "outputs": [
    {
     "data": {
      "text/plain": [
       "True"
      ]
     },
     "execution_count": 18,
     "metadata": {},
     "output_type": "execute_result"
    }
   ],
   "source": [
    "'''Write a function named is_triangle that takes as parameters\n",
    "three lengths a , b , and c , and returns True if a triangle is\n",
    "possible, otherwise it returns False '''\n",
    "\n",
    "def is_triangle(a,b,c):\n",
    "    if a + b >= c and a + c >= b and b + c >= a:\n",
    "        return(True)\n",
    "    else:\n",
    "        return(False)\n",
    "\n",
    "is_triangle(3,4,5)"
   ]
  },
  {
   "cell_type": "code",
   "execution_count": 20,
   "metadata": {},
   "outputs": [
    {
     "data": {
      "text/plain": [
       "False"
      ]
     },
     "execution_count": 20,
     "metadata": {},
     "output_type": "execute_result"
    }
   ],
   "source": [
    "is_triangle(3,4,8)"
   ]
  },
  {
   "cell_type": "code",
   "execution_count": 21,
   "metadata": {},
   "outputs": [
    {
     "data": {
      "text/plain": [
       "1"
      ]
     },
     "execution_count": 21,
     "metadata": {},
     "output_type": "execute_result"
    }
   ],
   "source": [
    "'''You want to find out if a given number is positive, negative, or\n",
    "zero. Write a function named sign that takes a parameter\n",
    "named num and returns an integer indicating the sign of num .\n",
    "The return value is +1 if num is positive, 0 if num is zero, and\n",
    "-1 if num is negative.'''\n",
    "\n",
    "def sign(num):\n",
    "    if int(num) > 0:\n",
    "        return(1)\n",
    "    if int(num) < 0:\n",
    "        return(-1)\n",
    "    else:\n",
    "        return(0)\n",
    "\n",
    "sign(3)"
   ]
  },
  {
   "cell_type": "code",
   "execution_count": 22,
   "metadata": {},
   "outputs": [
    {
     "data": {
      "text/plain": [
       "-1"
      ]
     },
     "execution_count": 22,
     "metadata": {},
     "output_type": "execute_result"
    }
   ],
   "source": [
    "sign(-3)"
   ]
  },
  {
   "cell_type": "code",
   "execution_count": 23,
   "metadata": {},
   "outputs": [
    {
     "data": {
      "text/plain": [
       "0"
      ]
     },
     "execution_count": 23,
     "metadata": {},
     "output_type": "execute_result"
    }
   ],
   "source": [
    "sign(0)"
   ]
  },
  {
   "cell_type": "code",
   "execution_count": 24,
   "metadata": {},
   "outputs": [
    {
     "data": {
      "text/plain": [
       "True"
      ]
     },
     "execution_count": 24,
     "metadata": {},
     "output_type": "execute_result"
    }
   ],
   "source": [
    "'''Write a function named is_right_triangle that takes x y z as\n",
    "parameters and determines if x y z form the sides of a right\n",
    "angled triangle. The function returns True if a right triangle is\n",
    "formed, otherwise it returns False '''\n",
    "\n",
    "def is_right_triangle(x,y,z):\n",
    "    if x**2 + y**2 == z**2 or x**2 + z**2 == y**2 or z**2 + y**2 == x**2:\n",
    "        return(True)\n",
    "    else:\n",
    "        return(False)\n",
    "\n",
    "is_right_triangle(3,4,5)"
   ]
  },
  {
   "cell_type": "code",
   "execution_count": 25,
   "metadata": {},
   "outputs": [
    {
     "data": {
      "text/plain": [
       "False"
      ]
     },
     "execution_count": 25,
     "metadata": {},
     "output_type": "execute_result"
    }
   ],
   "source": [
    "is_right_triangle(6,10,12)"
   ]
  },
  {
   "cell_type": "code",
   "execution_count": 27,
   "metadata": {},
   "outputs": [
    {
     "data": {
      "text/plain": [
       "6"
      ]
     },
     "execution_count": 27,
     "metadata": {},
     "output_type": "execute_result"
    }
   ],
   "source": [
    "'''Write a function named even_sum that takes two parameters a\n",
    "and b and returns their even sum. The even sum is equal to the\n",
    "sum if the sum is even. Otherwise, it is one more than the sum.'''\n",
    "\n",
    "def even_sum(a,b):\n",
    "    if (a+b)%2 == 0:\n",
    "        return(a+b)\n",
    "    else:\n",
    "        return(a+b+1)\n",
    "\n",
    "even_sum(2,4)"
   ]
  },
  {
   "cell_type": "code",
   "execution_count": 28,
   "metadata": {},
   "outputs": [
    {
     "data": {
      "text/plain": [
       "8"
      ]
     },
     "execution_count": 28,
     "metadata": {},
     "output_type": "execute_result"
    }
   ],
   "source": [
    "even_sum(3,4)"
   ]
  },
  {
   "cell_type": "code",
   "execution_count": 30,
   "metadata": {},
   "outputs": [
    {
     "data": {
      "text/plain": [
       "'Job 2 has the higher salary: $2000.'"
      ]
     },
     "execution_count": 30,
     "metadata": {},
     "output_type": "execute_result"
    }
   ],
   "source": [
    "'''You have 2 competing job offers, each with a different salary\n",
    "package. As all other factors are comparable, you are going to\n",
    "make your decision on which job to join based on salary alone.\n",
    "Write a function named choose_job that takes salary_1 and\n",
    "salary_2 as parameters and prints a message advising the job\n",
    "to take based on the higher salary.'''\n",
    "\n",
    "def choose_job(salary_1,salary_2):\n",
    "    if salary_1 > salary_2:\n",
    "        return(f'Job 1 has the higher salary: ${salary_1}.')\n",
    "    else:\n",
    "        return(f'Job 2 has the higher salary: ${salary_2}.')\n",
    "    \n",
    "choose_job(1000,2000)"
   ]
  },
  {
   "cell_type": "code",
   "execution_count": 31,
   "metadata": {},
   "outputs": [
    {
     "data": {
      "text/plain": [
       "'Job 1 has the higher salary: $3000.'"
      ]
     },
     "execution_count": 31,
     "metadata": {},
     "output_type": "execute_result"
    }
   ],
   "source": [
    "choose_job(3000,2000)"
   ]
  },
  {
   "cell_type": "code",
   "execution_count": 32,
   "metadata": {},
   "outputs": [
    {
     "data": {
      "text/plain": [
       "True"
      ]
     },
     "execution_count": 32,
     "metadata": {},
     "output_type": "execute_result"
    }
   ],
   "source": [
    "'''\"A leap year comes once every four years. \n",
    "Because of this, a\n",
    "leap year can always be evenly divided by four. For\n",
    "example, 2012 was a leap year. \n",
    "But a year is [not a leap] year if\n",
    "it can be evenly divided by 100 but not by 400. This is\n",
    "why 1600, 2000, and 2400 are leap years, but 1700, 1800,\n",
    "and 1900 were [not].\"\n",
    "Write a function named is_leap_year that takes year as a\n",
    "parameter and returns True if year is a leap year, otherwise it\n",
    "returns False .'''\n",
    "\n",
    "def is_leap_year(year):\n",
    "    if year%100 == 0 and year%400 != 0:\n",
    "        return(False)\n",
    "    if year%4 == 0:\n",
    "        return(True)\n",
    "    else:\n",
    "        return(False)\n",
    "\n",
    "is_leap_year(1600)"
   ]
  },
  {
   "cell_type": "code",
   "execution_count": 33,
   "metadata": {},
   "outputs": [
    {
     "data": {
      "text/plain": [
       "False"
      ]
     },
     "execution_count": 33,
     "metadata": {},
     "output_type": "execute_result"
    }
   ],
   "source": [
    "is_leap_year(1700)"
   ]
  },
  {
   "cell_type": "code",
   "execution_count": 34,
   "metadata": {},
   "outputs": [
    {
     "data": {
      "text/plain": [
       "False"
      ]
     },
     "execution_count": 34,
     "metadata": {},
     "output_type": "execute_result"
    }
   ],
   "source": [
    "is_leap_year(2017)"
   ]
  },
  {
   "cell_type": "code",
   "execution_count": 35,
   "metadata": {},
   "outputs": [
    {
     "data": {
      "text/plain": [
       "True"
      ]
     },
     "execution_count": 35,
     "metadata": {},
     "output_type": "execute_result"
    }
   ],
   "source": [
    "is_leap_year(2020)"
   ]
  },
  {
   "cell_type": "code",
   "execution_count": 4,
   "metadata": {},
   "outputs": [],
   "source": [
    "'''Write a function named gpa_calculator that takes marks_1,\n",
    "marks_2, marks_3, marks_4 as parameters and outputs the\n",
    "corresponding grades and GPA. You may assume that all 4\n",
    "courses are 3 credits hours each.\n",
    "Hint: Make helper functions, grade that returns the grade\n",
    "corresponding to a mark, and points that returns the grade\n",
    "points corresponding to a grade.'''\n",
    "\n",
    "def gpa_calculator(marks_1,marks_2,marks_3,marks_4):\n",
    "    def grade(marks_1,marks_2,marks_3,marks_4):\n",
    "        pass\n",
    "    def points(marks_1,marks_2,marks_3,marks_4):\n",
    "        total = 0\n",
    "        if amount_1>= 93:\n",
    "            total += 4.00\n",
    "        elif amount_1 >= 90:\n",
    "            total += 3.67\n",
    "        elif amount_1 >= 80:\n",
    "            total += 3.33\n",
    "        elif amount_1 >= 75:\n",
    "            total += 3.00\n",
    "        elif amount_1 >= 70:\n",
    "            total += 2.67\n",
    "        elif amount_1 >= 67:\n",
    "            total += 2.33\n",
    "        elif amount_1 >= 63:\n",
    "            total += 2.00\n",
    "        elif amount_1 >= 60:\n",
    "            total += 1.67\n",
    "        print(total)\n",
    "\n",
    "gpa_calculator(90,85,3,4)"
   ]
  },
  {
   "cell_type": "code",
   "execution_count": null,
   "metadata": {},
   "outputs": [],
   "source": []
  },
  {
   "cell_type": "code",
   "execution_count": null,
   "metadata": {},
   "outputs": [],
   "source": []
  }
 ],
 "metadata": {
  "kernelspec": {
   "display_name": "Python 3",
   "language": "python",
   "name": "python3"
  },
  "language_info": {
   "codemirror_mode": {
    "name": "ipython",
    "version": 3
   },
   "file_extension": ".py",
   "mimetype": "text/x-python",
   "name": "python",
   "nbconvert_exporter": "python",
   "pygments_lexer": "ipython3",
   "version": "3.8.5"
  }
 },
 "nbformat": 4,
 "nbformat_minor": 4
}
